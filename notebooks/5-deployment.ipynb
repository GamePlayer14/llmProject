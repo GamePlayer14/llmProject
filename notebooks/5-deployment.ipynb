{
 "cells": [
  {
   "cell_type": "code",
   "execution_count": null,
   "metadata": {},
   "outputs": [],
   "source": [
    "from transformers import pipeline\n",
    "\n",
    "# Load the model from Hugging Face Hub\n",
    "model_id = \"Tylerus/bert-imdb-sentiment\"  # Your uploaded repo\n",
    "\n",
    "# Create a sentiment analysis pipeline using your fine-tuned model\n",
    "sentiment_pipeline = pipeline(\"text-classification\", model=model_id, tokenizer=model_id)\n",
    "\n",
    "# Test the pipeline\n",
    "sample_texts = [\n",
    "    \"This movie was absolutely fantastic!\",\n",
    "    \"I didn't enjoy the film at all.\",\n",
    "    \"It was okay, nothing special.\"\n",
    "]\n",
    "\n",
    "for text in sample_texts:\n",
    "    result = sentiment_pipeline(text)[0]\n",
    "    print(f\"Input: {text}\")\n",
    "    print(f\"Prediction: {result['label']}, Score: {result['score']:.4f}\")\n",
    "    print(\"-\" * 30)\n"
   ]
  }
 ],
 "metadata": {
  "kernelspec": {
   "display_name": "Python 3 (ipykernel)",
   "language": "python",
   "name": "python3"
  },
  "language_info": {
   "codemirror_mode": {
    "name": "ipython",
    "version": 3
   },
   "file_extension": ".py",
   "mimetype": "text/x-python",
   "name": "python",
   "nbconvert_exporter": "python",
   "pygments_lexer": "ipython3",
   "version": "3.12.3"
  }
 },
 "nbformat": 4,
 "nbformat_minor": 4
}
