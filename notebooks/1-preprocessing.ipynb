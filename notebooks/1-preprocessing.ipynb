{
 "cells": [
  {
   "cell_type": "code",
   "execution_count": null,
   "metadata": {},
   "outputs": [],
   "source": [
    "# 1-preprocessing.ipynb\n",
    "\n",
    "import pandas as pd\n",
    "import re\n",
    "\n",
    "# Example: Load raw IMDb dataset (adjust the path or method to match your actual source)\n",
    "df = pd.read_csv(\"imdb-dataset.csv\")  # Replace with correct filename if needed\n",
    "\n",
    "# Preview data\n",
    "print(df.head())\n",
    "\n",
    "# Basic cleaning function\n",
    "def clean_text(text):\n",
    "    text = text.lower()\n",
    "    text = re.sub(r\"<.*?>\", \"\", text)  # Remove HTML tags\n",
    "    text = re.sub(r\"[^a-zA-Z\\s]\", \"\", text)  # Remove non-letter characters\n",
    "    text = re.sub(r\"\\s+\", \" \", text).strip()  # Remove extra whitespace\n",
    "    return text\n",
    "\n",
    "# Apply cleaning\n",
    "df[\"clean_review\"] = df[\"review\"].apply(clean_text)\n",
    "\n",
    "# Save preprocessed data for the next step\n",
    "df.to_csv(\"cleaned_imdb.csv\", index=False)\n",
    "print(\"Preprocessing complete. Saved as 'cleaned_imdb.csv'.\")\n"
   ]
  }
 ],
 "metadata": {
  "kernelspec": {
   "display_name": "Python 3 (ipykernel)",
   "language": "python",
   "name": "python3"
  },
  "language_info": {
   "codemirror_mode": {
    "name": "ipython",
    "version": 3
   },
   "file_extension": ".py",
   "mimetype": "text/x-python",
   "name": "python",
   "nbconvert_exporter": "python",
   "pygments_lexer": "ipython3",
   "version": "3.12.3"
  }
 },
 "nbformat": 4,
 "nbformat_minor": 4
}
