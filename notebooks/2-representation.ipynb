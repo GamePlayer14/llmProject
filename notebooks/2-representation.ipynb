{
 "cells": [
  {
   "cell_type": "code",
   "execution_count": null,
   "metadata": {},
   "outputs": [],
   "source": [
    "from transformers import AutoTokenizer\n",
    "\n",
    "# Load the same tokenizer used for the model\n",
    "tokenizer = AutoTokenizer.from_pretrained(\"bert-base-uncased\")\n",
    "\n",
    "# Sample sentence\n",
    "sample_text = \"The movie was surprisingly emotional and well-acted.\"\n",
    "\n",
    "# Tokenize the sentence\n",
    "tokens = tokenizer.tokenize(sample_text)\n",
    "print(\"Tokens:\", tokens)\n",
    "\n",
    "# Convert tokens to input IDs (numerical representation)\n",
    "input_ids = tokenizer.encode(sample_text, add_special_tokens=True)\n",
    "print(\"Input IDs:\", input_ids)\n",
    "\n",
    "# Decode to check it works\n",
    "decoded_text = tokenizer.decode(input_ids)\n",
    "print(\"Decoded:\", decoded_text)\n"
   ]
  }
 ],
 "metadata": {
  "kernelspec": {
   "display_name": "Python 3 (ipykernel)",
   "language": "python",
   "name": "python3"
  },
  "language_info": {
   "codemirror_mode": {
    "name": "ipython",
    "version": 3
   },
   "file_extension": ".py",
   "mimetype": "text/x-python",
   "name": "python",
   "nbconvert_exporter": "python",
   "pygments_lexer": "ipython3",
   "version": "3.12.3"
  }
 },
 "nbformat": 4,
 "nbformat_minor": 4
}
